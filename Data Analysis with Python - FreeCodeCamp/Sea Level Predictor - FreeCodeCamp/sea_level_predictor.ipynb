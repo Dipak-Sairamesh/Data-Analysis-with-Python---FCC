{
 "cells": [
  {
   "cell_type": "code",
   "execution_count": 44,
   "metadata": {},
   "outputs": [],
   "source": [
    "import pandas as pd\n",
    "import numpy as np\n",
    "import matplotlib.pyplot as plt\n",
    "from scipy.stats import linregress"
   ]
  },
  {
   "cell_type": "code",
   "execution_count": 45,
   "metadata": {},
   "outputs": [],
   "source": [
    "def draw_plot():\n",
    "    # Read data from file. Use Pandas to import the data from epa-sea-level.csv.\n",
    "    df = pd.read_csv('epa-sea-level.csv')\n",
    "\n",
    "    # Create scatter plot. Use matplotlib to create a scatter plot using the Year column as the x-axis and the CSIRO Adjusted Sea Level column as the y-axis.\n",
    "    plt.scatter(df['Year'], df['CSIRO Adjusted Sea Level'], s=5)\n",
    "\n",
    "    # Create first line of best fit. Use the linregress function from scipy.stats to get the slope and y-intercept of the line of best fit. \n",
    "    # Plot the line of best fit over the top of the scatter plot. Make the line go through the year 2050 to predict the sea level rise in 2050.\n",
    "    line1 = linregress(df['Year'], df['CSIRO Adjusted Sea Level'])\n",
    "    x1 = np.arange(df['Year'].min(), 2051, 1)\n",
    "    y1 = x1*line1.slope + line1.intercept\n",
    "    plt.plot(x1, y1, color='red')\n",
    "\n",
    "    # Create second line of best fit. Plot a new line of best fit just using the data from year 2000 through the most recent year in the dataset. \n",
    "    # Make the line also go through the year 2050 to predict the sea level rise in 2050 if the rate of rise continues as it has since the year 2000.\n",
    "    df_range = df[df['Year'] >= 2000]\n",
    "\n",
    "    line2 = linregress(df_range['Year'], df_range['CSIRO Adjusted Sea Level'])\n",
    "    x2 = np.arange(df_range['Year'].min(), 2051, 1)\n",
    "    y2 = x2*line2.slope + line2.intercept\n",
    "    plt.plot(x2, y2, color='green')\n",
    "\n",
    "    # Add labels and title. The x label should be Year, the y label should be Sea Level (inches), and the title should be Rise in Sea Level.\n",
    "    plt.title('Rise in Sea Level')\n",
    "    plt.xlabel('Year')\n",
    "    plt.ylabel('Sea Level (inches)')\n",
    "    \n",
    "    # Save plot and return data for testing (DO NOT MODIFY)\n",
    "    plt.savefig('sea_level_plot.png')\n",
    "    return plt.gca()\n",
    "\n",
    "# draw_plot()"
   ]
  },
  {
   "cell_type": "code",
   "execution_count": 10,
   "metadata": {},
   "outputs": [],
   "source": [
    "df = pd.read_csv('epa-sea-level.csv')"
   ]
  },
  {
   "cell_type": "code",
   "execution_count": 39,
   "metadata": {},
   "outputs": [],
   "source": [
    "df_range = df[df['Year'] >= 2000]"
   ]
  },
  {
   "cell_type": "code",
   "execution_count": 40,
   "metadata": {},
   "outputs": [
    {
     "data": {
      "text/html": [
       "<div>\n",
       "<style scoped>\n",
       "    .dataframe tbody tr th:only-of-type {\n",
       "        vertical-align: middle;\n",
       "    }\n",
       "\n",
       "    .dataframe tbody tr th {\n",
       "        vertical-align: top;\n",
       "    }\n",
       "\n",
       "    .dataframe thead th {\n",
       "        text-align: right;\n",
       "    }\n",
       "</style>\n",
       "<table border=\"1\" class=\"dataframe\">\n",
       "  <thead>\n",
       "    <tr style=\"text-align: right;\">\n",
       "      <th></th>\n",
       "      <th>Year</th>\n",
       "      <th>CSIRO Adjusted Sea Level</th>\n",
       "      <th>Lower Error Bound</th>\n",
       "      <th>Upper Error Bound</th>\n",
       "      <th>NOAA Adjusted Sea Level</th>\n",
       "    </tr>\n",
       "  </thead>\n",
       "  <tbody>\n",
       "    <tr>\n",
       "      <th>count</th>\n",
       "      <td>14.0000</td>\n",
       "      <td>14.000000</td>\n",
       "      <td>14.000000</td>\n",
       "      <td>14.000000</td>\n",
       "      <td>14.000000</td>\n",
       "    </tr>\n",
       "    <tr>\n",
       "      <th>mean</th>\n",
       "      <td>2006.5000</td>\n",
       "      <td>8.142857</td>\n",
       "      <td>7.856018</td>\n",
       "      <td>8.429696</td>\n",
       "      <td>7.750116</td>\n",
       "    </tr>\n",
       "    <tr>\n",
       "      <th>std</th>\n",
       "      <td>4.1833</td>\n",
       "      <td>0.713125</td>\n",
       "      <td>0.693719</td>\n",
       "      <td>0.733022</td>\n",
       "      <td>0.475023</td>\n",
       "    </tr>\n",
       "    <tr>\n",
       "      <th>min</th>\n",
       "      <td>2000.0000</td>\n",
       "      <td>7.062992</td>\n",
       "      <td>6.791339</td>\n",
       "      <td>7.334646</td>\n",
       "      <td>6.920582</td>\n",
       "    </tr>\n",
       "    <tr>\n",
       "      <th>25%</th>\n",
       "      <td>2003.2500</td>\n",
       "      <td>7.741142</td>\n",
       "      <td>7.466535</td>\n",
       "      <td>8.015748</td>\n",
       "      <td>7.493248</td>\n",
       "    </tr>\n",
       "    <tr>\n",
       "      <th>50%</th>\n",
       "      <td>2006.5000</td>\n",
       "      <td>7.956693</td>\n",
       "      <td>7.679134</td>\n",
       "      <td>8.234252</td>\n",
       "      <td>7.699784</td>\n",
       "    </tr>\n",
       "    <tr>\n",
       "      <th>75%</th>\n",
       "      <td>2009.7500</td>\n",
       "      <td>8.822835</td>\n",
       "      <td>8.541339</td>\n",
       "      <td>9.104331</td>\n",
       "      <td>8.051387</td>\n",
       "    </tr>\n",
       "    <tr>\n",
       "      <th>max</th>\n",
       "      <td>2013.0000</td>\n",
       "      <td>9.326772</td>\n",
       "      <td>8.992126</td>\n",
       "      <td>9.661417</td>\n",
       "      <td>8.546648</td>\n",
       "    </tr>\n",
       "  </tbody>\n",
       "</table>\n",
       "</div>"
      ],
      "text/plain": [
       "            Year  CSIRO Adjusted Sea Level  Lower Error Bound  \\\n",
       "count    14.0000                 14.000000          14.000000   \n",
       "mean   2006.5000                  8.142857           7.856018   \n",
       "std       4.1833                  0.713125           0.693719   \n",
       "min    2000.0000                  7.062992           6.791339   \n",
       "25%    2003.2500                  7.741142           7.466535   \n",
       "50%    2006.5000                  7.956693           7.679134   \n",
       "75%    2009.7500                  8.822835           8.541339   \n",
       "max    2013.0000                  9.326772           8.992126   \n",
       "\n",
       "       Upper Error Bound  NOAA Adjusted Sea Level  \n",
       "count          14.000000                14.000000  \n",
       "mean            8.429696                 7.750116  \n",
       "std             0.733022                 0.475023  \n",
       "min             7.334646                 6.920582  \n",
       "25%             8.015748                 7.493248  \n",
       "50%             8.234252                 7.699784  \n",
       "75%             9.104331                 8.051387  \n",
       "max             9.661417                 8.546648  "
      ]
     },
     "execution_count": 40,
     "metadata": {},
     "output_type": "execute_result"
    }
   ],
   "source": [
    "df_range.describe()"
   ]
  },
  {
   "cell_type": "code",
   "execution_count": 46,
   "metadata": {},
   "outputs": [
    {
     "data": {
      "text/plain": [
       "<Axes: title={'center': 'Rise in Sea Level'}, xlabel='Year', ylabel='Sea Level (inches)'>"
      ]
     },
     "execution_count": 46,
     "metadata": {},
     "output_type": "execute_result"
    },
    {
     "data": {
      "image/png": "[encoded data removed]",
      "text/plain": [
       "<Figure size 640x480 with 1 Axes>"
      ]
     },
     "metadata": {},
     "output_type": "display_data"
    }
   ],
   "source": [
    "draw_plot()"
   ]
  }
 ],
 "metadata": {
  "kernelspec": {
   "display_name": "Python 3",
   "language": "python",
   "name": "python3"
  },
  "language_info": {
   "codemirror_mode": {
    "name": "ipython",
    "version": 3
   },
   "file_extension": ".py",
   "mimetype": "text/x-python",
   "name": "python",
   "nbconvert_exporter": "python",
   "pygments_lexer": "ipython3",
   "version": "3.9.6"
  }
 },
 "nbformat": 4,
 "nbformat_minor": 2
}
